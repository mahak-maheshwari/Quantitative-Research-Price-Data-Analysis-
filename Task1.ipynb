{
 "cells": [
  {
   "cell_type": "markdown",
   "metadata": {},
   "source": [
    "Forecasting using numPy"
   ]
  },
  {
   "cell_type": "code",
   "execution_count": null,
   "metadata": {},
   "outputs": [],
   "source": [
    "import pandas as pd "
   ]
  },
  {
   "cell_type": "code",
   "execution_count": null,
   "metadata": {},
   "outputs": [],
   "source": [
    "#reading the csv file into dataframe\n",
    "natural_gas_df = pd.read_csv('C:/Users/mahak/OneDrive/Desktop/P/Nat_Gas1.csv')\n",
    "natural_gas_df"
   ]
  },
  {
   "cell_type": "code",
   "execution_count": null,
   "metadata": {},
   "outputs": [],
   "source": [
    "#converting \"Dates\" into datetime column\n",
    "natural_gas_df['Dates']= pd.to_datetime(natural_gas_df.Dates)."
   ]
  },
  {
   "cell_type": "code",
   "execution_count": null,
   "metadata": {},
   "outputs": [],
   "source": [
    "natural_gas_df.Dates"
   ]
  },
  {
   "cell_type": "code",
   "execution_count": 9,
   "metadata": {},
   "outputs": [],
   "source": [
    "natural_gas_df['year']= pd.DatetimeIndex(natural_gas_df.Dates).year\n",
    "natural_gas_df['month']= pd.DatetimeIndex(natural_gas_df.Dates).month\n",
    "natural_gas_df['day']= pd.DatetimeIndex(natural_gas_df.Dates).day"
   ]
  },
  {
   "cell_type": "code",
   "execution_count": null,
   "metadata": {},
   "outputs": [],
   "source": [
    "natural_gas_df"
   ]
  },
  {
   "cell_type": "code",
   "execution_count": 11,
   "metadata": {},
   "outputs": [],
   "source": [
    "natural_gas_df['moving_average']= natural_gas_df['Prices'].rolling(window=3).mean()"
   ]
  },
  {
   "cell_type": "code",
   "execution_count": null,
   "metadata": {},
   "outputs": [],
   "source": [
    "natural_gas_df"
   ]
  },
  {
   "cell_type": "code",
   "execution_count": 15,
   "metadata": {},
   "outputs": [],
   "source": [
    "# Forecasting using numPy\n",
    "import numpy as np\n"
   ]
  },
  {
   "cell_type": "code",
   "execution_count": 20,
   "metadata": {},
   "outputs": [],
   "source": [
    "X= np.linspace(1,48,48, dtype=int)\n",
    "Y= natural_gas_df['Prices'].values"
   ]
  },
  {
   "cell_type": "code",
   "execution_count": 21,
   "metadata": {},
   "outputs": [],
   "source": [
    "slope, intercept = np.polyfit(X,Y,1)"
   ]
  },
  {
   "cell_type": "code",
   "execution_count": 22,
   "metadata": {},
   "outputs": [],
   "source": [
    "#defining a function to predict prices\n",
    "def price_prediction(month):\n",
    "    return slope*month+intercept"
   ]
  },
  {
   "cell_type": "code",
   "execution_count": 28,
   "metadata": {},
   "outputs": [],
   "source": [
    "#predicting natural gas prices from 31st May, 2024 to 31st May,2025\n",
    "future_months= np.linspace(49,61,12, dtype=int)\n",
    "future_prices= price_prediction(future_months)"
   ]
  },
  {
   "cell_type": "code",
   "execution_count": null,
   "metadata": {},
   "outputs": [],
   "source": [
    "future_prices"
   ]
  },
  {
   "cell_type": "code",
   "execution_count": 30,
   "metadata": {},
   "outputs": [],
   "source": [
    "#predicting historic prices \n",
    "past_months= np.linspace(0,-12, num=13, dtype=int)\n",
    "past_prices=price_prediction(past_months)"
   ]
  },
  {
   "cell_type": "code",
   "execution_count": null,
   "metadata": {},
   "outputs": [],
   "source": [
    "past_prices"
   ]
  },
  {
   "cell_type": "code",
   "execution_count": 32,
   "metadata": {},
   "outputs": [],
   "source": [
    "#Storing both into dataframes\n",
    "past_df = pd.DataFrame({\n",
    "    'Month': past_months,\n",
    "    'prices': past_prices\n",
    "})\n",
    "\n",
    "future_df = pd.DataFrame({\n",
    "    'Month': future_months,\n",
    "    'prices': future_prices\n",
    "})\n",
    "price_prediction_df= pd.concat([natural_gas_df, past_df, future_df], ignore_index= True)\n"
   ]
  },
  {
   "cell_type": "code",
   "execution_count": null,
   "metadata": {},
   "outputs": [],
   "source": [
    "price_prediction_df"
   ]
  },
  {
   "cell_type": "markdown",
   "metadata": {},
   "source": [
    "Visualizing the data:"
   ]
  },
  {
   "cell_type": "code",
   "execution_count": null,
   "metadata": {},
   "outputs": [],
   "source": [
    "\n",
    "#visualizing data\n",
    "import matplotlib.pyplot as plt\n",
    "\n",
    "plt.plot(X, Y, label='Given Natural Gas Prices', marker='o')\n",
    "plt.plot(future_months, future_prices, label='Predicted Future Natural Gas Prices', marker='p')\n",
    "plt.plot(past_months, past_prices, label='Estimated Past Natural Gas Prices', marker='h')\n",
    "\n",
    "plt.xlabel('Months')\n",
    "plt.ylabel('Natural Gas Price')\n",
    "plt.legend()\n",
    "\n",
    "months = np.concatenate([X, future_months, past_months])\n",
    "plt.xticks(months[::6])\n",
    "plt.show()\n",
    "\n"
   ]
  },
  {
   "cell_type": "markdown",
   "metadata": {},
   "source": [
    "The graph shows that the natural gas prices starts to rise in October, and falls down in March, and then again rise in April, and falls down in September\n",
    "The overall prices of natural gas is increasing with seasonal fluctuations\n",
    "\n",
    "During the months of October, we can notice the sudden increase in natural gas prices, as it can be Winters and rise in demand for heating\n",
    "may lead to higher demand for natural gas driving up its prices and with increasing supply the market adjusts within 6-months, . In some regions,\n",
    "natural gas is used for electricity generation to power air conditioners, leading to higher natural gas consumption, thereby pushing up prices during\n",
    "start of summer as well, as can be seen in the plot above."
   ]
  }
 ],
 "metadata": {
  "kernelspec": {
   "display_name": "Python 3",
   "language": "python",
   "name": "python3"
  },
  "language_info": {
   "codemirror_mode": {
    "name": "ipython",
    "version": 3
   },
   "file_extension": ".py",
   "mimetype": "text/x-python",
   "name": "python",
   "nbconvert_exporter": "python",
   "pygments_lexer": "ipython3",
   "version": "3.12.3"
  }
 },
 "nbformat": 4,
 "nbformat_minor": 2
}
